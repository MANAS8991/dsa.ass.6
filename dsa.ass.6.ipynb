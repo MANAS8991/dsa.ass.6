{
 "cells": [
  {
   "cell_type": "markdown",
   "id": "b096c44a",
   "metadata": {},
   "source": [
    "# **Question 1**\n",
    "\n",
    "# A permutation perm of n + 1 integers of all the integers in the range [0, n] can be represented as a string s of length n where:\n",
    "\n",
    "# - s[i] == 'I' if perm[i] < perm[i + 1], and\n",
    "# - s[i] == 'D' if perm[i] > perm[i + 1].\n",
    "\n",
    "# Given a string s, reconstruct the permutation perm and return it. If there are multiple valid permutations perm, return **any of them**.\n",
    "\n",
    "# **Example 1:**\n",
    "\n",
    "# **Input:** s = \"IDID\"\n",
    "\n",
    "# **Output:**\n",
    "\n",
    "# [0,4,1,3,2]"
   ]
  },
  {
   "cell_type": "code",
   "execution_count": 1,
   "id": "fb785bb5",
   "metadata": {},
   "outputs": [
    {
     "name": "stdout",
     "output_type": "stream",
     "text": [
      "Reconstructed permutation: [0, 4, 1, 3, 2]\n"
     ]
    }
   ],
   "source": [
    "def reconstructPermutation(s):\n",
    "    n = len(s)\n",
    "    perm = []\n",
    "    low, high = 0, n\n",
    "\n",
    "    for c in s:\n",
    "        if c == 'I':\n",
    "            perm.append(low)\n",
    "            low += 1\n",
    "        elif c == 'D':\n",
    "            perm.append(high)\n",
    "            high -= 1\n",
    "\n",
    "    perm.append(low)  # Append the remaining number (either low or high)\n",
    "\n",
    "    return perm\n",
    "\n",
    "# Test the function\n",
    "s = \"IDID\"\n",
    "output = reconstructPermutation(s)\n",
    "print(\"Reconstructed permutation:\", output)\n"
   ]
  },
  {
   "cell_type": "markdown",
   "id": "e1c5f98a",
   "metadata": {},
   "source": [
    "# # **Question 2**\n",
    "\n",
    "# You are given an m x n integer matrix matrix with the following two properties:\n",
    "\n",
    "# - Each row is sorted in non-decreasing order.\n",
    "# - The first integer of each row is greater than the last integer of the previous row.\n",
    "\n",
    "# Given an integer target, return true *if* target *is in* matrix *or* false *otherwise*.\n",
    "\n",
    "# You must write a solution in O(log(m * n)) time complexity.\n",
    "\n",
    "# **Example 1:**\n",
    "\n",
    "\n",
    "# **Input:** matrix = [[1,3,5,7],[10,11,16,20],[23,30,34,60]], target = 3\n",
    "\n",
    "# **Output:** true"
   ]
  },
  {
   "cell_type": "code",
   "execution_count": 2,
   "id": "ca524349",
   "metadata": {},
   "outputs": [
    {
     "name": "stdout",
     "output_type": "stream",
     "text": [
      "Target exists in the matrix: True\n"
     ]
    }
   ],
   "source": [
    "def searchMatrix(matrix, target):\n",
    "    m = len(matrix)  # Number of rows\n",
    "    n = len(matrix[0])  # Number of columns\n",
    "\n",
    "    left, right = 0, m * n - 1\n",
    "\n",
    "    while left <= right:\n",
    "        mid = left + (right - left) // 2\n",
    "        mid_element = matrix[mid // n][mid % n]\n",
    "\n",
    "        if mid_element == target:\n",
    "            return True\n",
    "        elif mid_element < target:\n",
    "            left = mid + 1\n",
    "        else:\n",
    "            right = mid - 1\n",
    "\n",
    "    return False\n",
    "\n",
    "# Test the function\n",
    "matrix = [\n",
    "    [1, 3, 5, 7],\n",
    "    [10, 11, 16, 20],\n",
    "    [23, 30, 34, 60]\n",
    "]\n",
    "target = 3\n",
    "\n",
    "output = searchMatrix(matrix, target)\n",
    "print(\"Target exists in the matrix:\", output)\n"
   ]
  },
  {
   "cell_type": "markdown",
   "id": "c5294f22",
   "metadata": {},
   "source": [
    "#  **Question 3**\n",
    "\n",
    "# Given an array of integers arr, return *true if and only if it is a valid mountain array*.\n",
    "\n",
    "# Recall that arr is a mountain array if and only if:\n",
    "\n",
    "# - arr.length >= 3\n",
    "# - There exists some i with 0 < i < arr.length - 1 such that:\n",
    "#    - arr[0] < arr[1] < ... < arr[i - 1] < arr[i]\n",
    "#    - arr[i] > arr[i + 1] > ... > arr[arr.length - 1]\n",
    "# **Example 1:**\n",
    "\n",
    "# **Input:** arr = [2,1]\n",
    "\n",
    "# **Output:**\n",
    "\n",
    "# false"
   ]
  },
  {
   "cell_type": "code",
   "execution_count": 3,
   "id": "a7698e54",
   "metadata": {},
   "outputs": [
    {
     "name": "stdout",
     "output_type": "stream",
     "text": [
      "Is the array a valid mountain array? False\n"
     ]
    }
   ],
   "source": [
    "def validMountainArray(arr):\n",
    "    n = len(arr)\n",
    "    \n",
    "    # Check if array length is less than 3\n",
    "    if n < 3:\n",
    "        return False\n",
    "    \n",
    "    # Find the peak index\n",
    "    peak_index = arr.index(max(arr))\n",
    "    \n",
    "    # Check if the peak index is the start or end of the array\n",
    "    if peak_index == 0 or peak_index == n - 1:\n",
    "        return False\n",
    "    \n",
    "    # Check the increasing sequence\n",
    "    for i in range(peak_index):\n",
    "        if arr[i] >= arr[i+1]:\n",
    "            return False\n",
    "    \n",
    "    # Check the decreasing sequence\n",
    "    for i in range(peak_index, n-1):\n",
    "        if arr[i] <= arr[i+1]:\n",
    "            return False\n",
    "    \n",
    "    return True\n",
    "\n",
    "# Test the function\n",
    "arr = [2, 1]\n",
    "output = validMountainArray(arr)\n",
    "print(\"Is the array a valid mountain array?\", output)\n"
   ]
  },
  {
   "cell_type": "markdown",
   "id": "e5d4e0f6",
   "metadata": {},
   "source": [
    "#  **Question 4**\n",
    "\n",
    "# Given a binary array nums, return *the maximum length of a contiguous subarray with an equal number of* 0 *and* 1.\n",
    "\n",
    "# **Example 1:**\n",
    "\n",
    "# **Input:** nums = [0,1]\n",
    "\n",
    "# **Output:** 2\n",
    "\n",
    "# **Explanation:**\n",
    "\n",
    "# [0, 1] is the longest contiguous subarray with an equal number of 0 and 1."
   ]
  },
  {
   "cell_type": "markdown",
   "id": "2066fca0",
   "metadata": {},
   "source": [
    "# "
   ]
  },
  {
   "cell_type": "code",
   "execution_count": 4,
   "id": "f14e31ab",
   "metadata": {},
   "outputs": [
    {
     "name": "stdout",
     "output_type": "stream",
     "text": [
      "Maximum length of contiguous subarray: 2\n"
     ]
    }
   ],
   "source": [
    "def findMaxLength(nums):\n",
    "    max_length = 0\n",
    "    count = 0\n",
    "    sum_map = {0: -1}\n",
    "\n",
    "    for i in range(len(nums)):\n",
    "        if nums[i] == 0:\n",
    "            count -= 1\n",
    "        else:\n",
    "            count += 1\n",
    "\n",
    "        if count in sum_map:\n",
    "            max_length = max(max_length, i - sum_map[count])\n",
    "        else:\n",
    "            sum_map[count] = i\n",
    "\n",
    "    return max_length\n",
    "\n",
    "# Test the function\n",
    "nums = [0, 1]\n",
    "output = findMaxLength(nums)\n",
    "print(\"Maximum length of contiguous subarray:\", output)\n"
   ]
  },
  {
   "cell_type": "markdown",
   "id": "3d391e6f",
   "metadata": {},
   "source": [
    "# **Question 5**\n",
    "\n",
    "# The **product sum** of two equal-length arrays a and b is equal to the sum of a[i] * b[i] for all 0 <= i < a.length (**0-indexed**).\n",
    "\n",
    "# - For example, if a = [1,2,3,4] and b = [5,2,3,1], the **product sum** would be 1*5 + 2*2 + 3*3 + 4*1 = 22.\n",
    "\n",
    "# Given two arrays nums1 and nums2 of length n, return *the **minimum product sum** if you are allowed to **rearrange** the **order** of the elements in* nums1.\n",
    "\n",
    "# **Example 1:**\n",
    "\n",
    "# **Input:** nums1 = [5,3,4,2], nums2 = [4,2,2,5]\n",
    "\n",
    "# **Output:** 40\n",
    "\n",
    "# **Explanation:**\n",
    "\n",
    "# We can rearrange nums1 to become [3,5,4,2]. The product sum of [3,5,4,2] and [4,2,2,5] is 3*4 + 5*2 + 4*2 + 2*5 = 40."
   ]
  },
  {
   "cell_type": "code",
   "execution_count": 5,
   "id": "37ce5637",
   "metadata": {},
   "outputs": [
    {
     "name": "stdout",
     "output_type": "stream",
     "text": [
      "Minimum product sum: 40\n"
     ]
    }
   ],
   "source": [
    "def minProductSum(nums1, nums2):\n",
    "    nums1.sort()  # Sort nums1 in ascending order\n",
    "    nums2.sort(reverse=True)  # Sort nums2 in descending order\n",
    "\n",
    "    product_sum = sum(nums1[i] * nums2[i] for i in range(len(nums1)))\n",
    "\n",
    "    return product_sum\n",
    "\n",
    "# Test the function\n",
    "nums1 = [5, 3, 4, 2]\n",
    "nums2 = [4, 2, 2, 5]\n",
    "output = minProductSum(nums1, nums2)\n",
    "print(\"Minimum product sum:\", output)\n"
   ]
  },
  {
   "cell_type": "markdown",
   "id": "4d5ecca2",
   "metadata": {},
   "source": [
    "# **Question 6**\n",
    "\n",
    "# An integer array original is transformed into a **doubled** array changed by appending **twice the value** of every element in original, and then randomly **shuffling** the resulting array.\n",
    "\n",
    "# Given an array changed, return original *if* changed *is a **doubled** array. If* changed *is not a **doubled** array, return an empty array. The elements in* original *may be returned in **any** order*.\n",
    "\n",
    "# **Example 1:**\n",
    "\n",
    "# **Input:** changed = [1,3,4,2,6,8]\n",
    "\n",
    "# **Output:** [1,3,4]\n",
    "\n",
    "# **Explanation:** One possible original array could be [1,3,4]:\n",
    "\n",
    "# - Twice the value of 1 is 1 * 2 = 2.\n",
    "# - Twice the value of 3 is 3 * 2 = 6.\n",
    "# - Twice the value of 4 is 4 * 2 = 8.\n",
    "\n",
    "# Other original arrays could be [4,3,1] or [3,1,4]."
   ]
  },
  {
   "cell_type": "code",
   "execution_count": 6,
   "id": "ebd89b7e",
   "metadata": {},
   "outputs": [
    {
     "name": "stdout",
     "output_type": "stream",
     "text": [
      "Original Array: []\n"
     ]
    }
   ],
   "source": [
    "def findOriginalArray(changed):\n",
    "    if len(changed) % 2 != 0:\n",
    "        return []  # The changed array should have an even length\n",
    "\n",
    "    freq_map = {}  # Track the frequency of elements in the changed array\n",
    "    original = []  # Store the original array\n",
    "\n",
    "    for num in changed:\n",
    "        if num % 2 != 0:\n",
    "            return []  # The element is not divisible by 2, so it's not a valid change\n",
    "\n",
    "        original_num = num // 2\n",
    "\n",
    "        if original_num in freq_map and freq_map[original_num] > 0:\n",
    "            original.append(original_num)\n",
    "            freq_map[original_num] -= 1\n",
    "        else:\n",
    "            return []  # The original array is not valid\n",
    "\n",
    "    return original\n",
    "\n",
    "\n",
    "# Test the function\n",
    "changed = [1, 3, 4, 2, 6, 8]\n",
    "output = findOriginalArray(changed)\n",
    "print(\"Original Array:\", output)\n"
   ]
  },
  {
   "cell_type": "markdown",
   "id": "05a1b219",
   "metadata": {},
   "source": [
    "# Question 7\n",
    "# Given a positive integer n, generate an n x n matrix filled with elements from 1 to n2 in spiral order.\n",
    "\n",
    "\n",
    "# **Input:** n = 3\n",
    "\n",
    "#**Output:** [[1,2,3],[8,9,4],[7,6,5]]"
   ]
  },
  {
   "cell_type": "code",
   "execution_count": 7,
   "id": "be39100f",
   "metadata": {},
   "outputs": [
    {
     "name": "stdout",
     "output_type": "stream",
     "text": [
      "Spiral Matrix:\n",
      "[1, 2, 3]\n",
      "[8, 9, 4]\n",
      "[7, 6, 5]\n"
     ]
    }
   ],
   "source": [
    "def generateMatrix(n):\n",
    "    matrix = [[0] * n for _ in range(n)]  # Initialize the matrix with zeros\n",
    "\n",
    "    num = 1  # Start with the smallest number\n",
    "    top = 0\n",
    "    bottom = n - 1\n",
    "    left = 0\n",
    "    right = n - 1\n",
    "\n",
    "    while num <= n * n:\n",
    "        # Traverse the top row from left to right\n",
    "        for i in range(left, right + 1):\n",
    "            matrix[top][i] = num\n",
    "            num += 1\n",
    "        top += 1\n",
    "\n",
    "        # Traverse the right column from top to bottom\n",
    "        for i in range(top, bottom + 1):\n",
    "            matrix[i][right] = num\n",
    "            num += 1\n",
    "        right -= 1\n",
    "\n",
    "        # Traverse the bottom row from right to left\n",
    "        for i in range(right, left - 1, -1):\n",
    "            matrix[bottom][i] = num\n",
    "            num += 1\n",
    "        bottom -= 1\n",
    "\n",
    "        # Traverse the left column from bottom to top\n",
    "        for i in range(bottom, top - 1, -1):\n",
    "            matrix[i][left] = num\n",
    "            num += 1\n",
    "        left += 1\n",
    "\n",
    "    return matrix\n",
    "\n",
    "\n",
    "# Test the function\n",
    "n = 3\n",
    "output = generateMatrix(n)\n",
    "print(\"Spiral Matrix:\")\n",
    "for row in output:\n",
    "    print(row)\n"
   ]
  },
  {
   "cell_type": "markdown",
   "id": "d16f4eff",
   "metadata": {},
   "source": [
    "# **Question 8**\n",
    "\n",
    "# Given two [sparse matrices](https://en.wikipedia.org/wiki/Sparse_matrix) mat1 of size m x k and mat2 of size k x n, return the result of mat1 x mat2. You may assume that multiplication is always possible.\n",
    "\n",
    "# **Input:** mat1 = [[1,0,0],[-1,0,3]], mat2 = [[7,0,0],[0,0,0],[0,0,1]]\n",
    "\n",
    "# **Output:**\n",
    "\n",
    "# [[7,0,0],[-7,0,3]]"
   ]
  },
  {
   "cell_type": "code",
   "execution_count": 8,
   "id": "2dc52dab",
   "metadata": {},
   "outputs": [
    {
     "name": "stdout",
     "output_type": "stream",
     "text": [
      "Result:\n",
      "[7, 0, 0]\n",
      "[-7, 0, 3]\n"
     ]
    }
   ],
   "source": [
    "def multiplySparseMatrices(mat1, mat2):\n",
    "    m = len(mat1)\n",
    "    k = len(mat1[0])\n",
    "    n = len(mat2[0])\n",
    "\n",
    "    # Initialize the result matrix with zeros\n",
    "    result = [[0] * n for _ in range(m)]\n",
    "\n",
    "    # Create a dictionary to store non-zero elements of mat2\n",
    "    mat2_dict = {}\n",
    "    for j in range(n):\n",
    "        mat2_dict[j] = {}\n",
    "        for i in range(k):\n",
    "            if mat2[i][j] != 0:\n",
    "                mat2_dict[j][i] = mat2[i][j]\n",
    "\n",
    "    # Perform matrix multiplication\n",
    "    for i in range(m):\n",
    "        for j in range(n):\n",
    "            for idx, val in mat2_dict[j].items():\n",
    "                result[i][j] += mat1[i][idx] * val\n",
    "\n",
    "    return result\n",
    "\n",
    "\n",
    "# Test the function\n",
    "mat1 = [[1, 0, 0], [-1, 0, 3]]\n",
    "mat2 = [[7, 0, 0], [0, 0, 0], [0, 0, 1]]\n",
    "output = multiplySparseMatrices(mat1, mat2)\n",
    "print(\"Result:\")\n",
    "for row in output:\n",
    "    print(row)\n"
   ]
  },
  {
   "cell_type": "code",
   "execution_count": null,
   "id": "c93d1351",
   "metadata": {},
   "outputs": [],
   "source": []
  }
 ],
 "metadata": {
  "kernelspec": {
   "display_name": "Python 3 (ipykernel)",
   "language": "python",
   "name": "python3"
  },
  "language_info": {
   "codemirror_mode": {
    "name": "ipython",
    "version": 3
   },
   "file_extension": ".py",
   "mimetype": "text/x-python",
   "name": "python",
   "nbconvert_exporter": "python",
   "pygments_lexer": "ipython3",
   "version": "3.9.12"
  }
 },
 "nbformat": 4,
 "nbformat_minor": 5
}
